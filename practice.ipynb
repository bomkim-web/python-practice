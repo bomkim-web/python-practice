{
 "cells": [
  {
   "cell_type": "markdown",
   "metadata": {},
   "source": [
    "Create an equilateral triangle class that outputs the perimeter based on the length of one side.\n",
    "\n",
    "![](https://i.imgur.com/AB0heGN.png)\n"
   ]
  },
  {
   "cell_type": "code",
   "execution_count": 1,
   "metadata": {},
   "outputs": [
    {
     "name": "stdout",
     "output_type": "stream",
     "text": [
      "The perimeter of an equilateral triangle with side length 1 is 3 .\n",
      "The perimeter of an equilateral triangle with side length 10 is 30 .\n",
      "The perimeter of an equilateral triangle with side length 25 is 75 .\n"
     ]
    }
   ],
   "source": [
    "import math\n",
    "\n",
    "class Triangle:\n",
    "    def __init__(self,  l = 1):\n",
    "        self.length = l     # length is a variable that stores the length of one side.\n",
    "        \n",
    "    def setLength(self, l):\n",
    "        self.length = l\n",
    "        \n",
    "    def getLength(self):\n",
    "        return self.length      # It should return the length of one side of the equilateral triangle.\n",
    "    \n",
    "    def getPerimeter(self):\n",
    "        return 3 * self.length     # The perimeter of an equilateral triangle is length of one side * 3.\n",
    "    \n",
    "triangle1 = Triangle()\n",
    "print('The perimeter of an equilateral triangle with side length', triangle1.getLength(), \"is\",\n",
    "      triangle1.getPerimeter(), \".\")\n",
    "triangle2 = Triangle(10)\n",
    "print('The perimeter of an equilateral triangle with side length', triangle2.getLength(), \"is\",\n",
    "      triangle2.getPerimeter(), \".\")\n",
    "triangle3 = Triangle(25)\n",
    "print('The perimeter of an equilateral triangle with side length', triangle3.getLength(), \"is\",\n",
    "      triangle3.getPerimeter(), \".\")"
   ]
  },
  {
   "cell_type": "markdown",
   "metadata": {},
   "source": [
    "Given a list arr containing 100 random numbers, find the number of elements, the smallest element, and the sum of all elements."
   ]
  },
  {
   "cell_type": "code",
   "execution_count": null,
   "metadata": {},
   "outputs": [
    {
     "name": "stdout",
     "output_type": "stream",
     "text": [
      "리스트 [3654, 2482, 8030, 8741, 3537, 971, 2876, 6394, 9706, 32, 2130, 8566, 4129, 6200, 8505, 369, 1031, 202, 5240, 625, 7383, 4838, 318, 4013, 9654, 3407, 6260, 135, 3125, 3496, 7813, 658, 8658, 5406, 2471, 608, 721, 5318, 1791, 3940, 6269, 1907, 183, 6945, 2361, 398, 6766, 4652, 5276, 5648, 8610, 3981, 3744, 5882, 2821, 7910, 5930, 243, 5704, 9873, 3726, 4620, 6365, 9885, 7091, 2248, 7535, 8214, 8742, 2610, 9982, 5583, 2673, 2076, 1778, 3866, 840, 2002, 9427, 9380, 4505, 7201, 2578, 2154, 1845, 9169, 9177, 7946, 5509, 2781, 7082, 633, 340, 3180, 9649, 2287, 4907, 8729, 3052, 2155]\n",
      "원소의 개수 : 100, 가장 작은 원소 : 32, 모든 원소의 합 : 462058\n"
     ]
    }
   ],
   "source": [
    "import random\n",
    "\n",
    "arr = [random.randint(0,10000) for _ in range(100)] \n",
    "# Creates a list arr containing 100 numbers.\n",
    "\n",
    "count = len(arr)               \n",
    "min_value = min(arr)           \n",
    "sum_values = sum(arr)          \n",
    "\n",
    "print(\"List\", arr)\n",
    "print(\"Number of elements: {0}, Smallest element: {1}, Sum of all elements: {2}\".format(\n",
    "    count, min_value, sum_values))"
   ]
  },
  {
   "cell_type": "markdown",
   "metadata": {},
   "source": [
    "You want to write a program that outputs the distances between all pairs of cities by referring to a city distance table. Complete the program by filling in the following code."
   ]
  },
  {
   "cell_type": "code",
   "execution_count": null,
   "metadata": {},
   "outputs": [
    {
     "name": "stdout",
     "output_type": "stream",
     "text": [
      "서울와/과 대전 사이의 거리는 151km입니다.\n",
      "서울와/과 광주 사이의 거리는 290km입니다.\n",
      "서울와/과 대구 사이의 거리는 282km입니다.\n",
      "서울와/과 울산 사이의 거리는 396km입니다.\n",
      "서울와/과 전주 사이의 거리는 210km입니다.\n",
      "서울와/과 순천 사이의 거리는 320km입니다.\n",
      "서울와/과 부산 사이의 거리는 390km입니다.\n",
      "대전와/과 광주 사이의 거리는 178km입니다.\n",
      "대전와/과 대구 사이의 거리는 148km입니다.\n",
      "대전와/과 울산 사이의 거리는 259km입니다.\n",
      "대전와/과 전주 사이의 거리는 90km입니다.\n",
      "대전와/과 순천 사이의 거리는 235km입니다.\n",
      "대전와/과 부산 사이의 거리는 260km입니다.\n",
      "광주와/과 대전 사이의 거리는 178km입니다.\n",
      "광주와/과 대구 사이의 거리는 219km입니다.\n",
      "광주와/과 울산 사이의 거리는 327km입니다.\n",
      "광주와/과 전주 사이의 거리는 105km입니다.\n",
      "광주와/과 순천 사이의 거리는 93km입니다.\n",
      "광주와/과 부산 사이의 거리는 267km입니다.\n",
      "대구와/과 대전 사이의 거리는 148km입니다.\n",
      "대구와/과 광주 사이의 거리는 219km입니다.\n",
      "대구와/과 울산 사이의 거리는 87km입니다.\n",
      "대구와/과 전주 사이의 거리는 198km입니다.\n",
      "대구와/과 순천 사이의 거리는 218km입니다.\n",
      "대구와/과 부산 사이의 거리는 130km입니다.\n",
      "울산와/과 대전 사이의 거리는 259km입니다.\n",
      "울산와/과 광주 사이의 거리는 327km입니다.\n",
      "울산와/과 대구 사이의 거리는 87km입니다.\n",
      "울산와/과 전주 사이의 거리는 308km입니다.\n",
      "울산와/과 순천 사이의 거리는 199km입니다.\n",
      "울산와/과 부산 사이의 거리는 65km입니다.\n",
      "전주와/과 대전 사이의 거리는 90km입니다.\n",
      "전주와/과 광주 사이의 거리는 105km입니다.\n",
      "전주와/과 대구 사이의 거리는 198km입니다.\n",
      "전주와/과 울산 사이의 거리는 308km입니다.\n",
      "전주와/과 순천 사이의 거리는 141km입니다.\n",
      "전주와/과 부산 사이의 거리는 265km입니다.\n",
      "순천와/과 대전 사이의 거리는 235km입니다.\n",
      "순천와/과 광주 사이의 거리는 93km입니다.\n",
      "순천와/과 대구 사이의 거리는 218km입니다.\n",
      "순천와/과 울산 사이의 거리는 199km입니다.\n",
      "순천와/과 전주 사이의 거리는 141km입니다.\n",
      "순천와/과 부산 사이의 거리는 199km입니다.\n"
     ]
    }
   ],
   "source": [
    "distances =[\n",
    "    [0, 151, 290, 282, 396, 210, 320, 390],\n",
    "    [151, 0, 178, 148, 259, 90, 235, 260],\n",
    "    [290, 178, 0, 219, 327, 105, 93, 267],\n",
    "    [282, 148, 219, 0, 87, 198, 218, 130],\n",
    "    [396, 259, 327, 87, 0, 308, 199, 65],\n",
    "    [210, 90, 105, 198, 308, 0, 141, 265],\n",
    "    [320, 235, 93, 218, 199, 141, 0, 199],\n",
    "    [390, 260, 267, 130, 65, 265, 199, 0]    \n",
    "]\n",
    "cities = ['Seoul', 'Daejeon', 'Gwangju', 'Daegu', 'Ulsan', 'Jeonju', 'Suncheon', 'Busan']\n",
    "\n",
    "for dept in cities[0:-1]:\n",
    "    for dest in cities[1:]:\n",
    "        if dept == dest:\n",
    "            continue\n",
    "        dept_index = cities.index(dept)    \n",
    "        dest_index = cities.index(dest)    \n",
    "\n",
    "        print(\"The distance between\", dept, \"and\", dest, \"is\", str(distances[dept_index][dest_index]) + \"km.\")    "
   ]
  },
  {
   "cell_type": "markdown",
   "metadata": {},
   "source": [
    "Write a program that takes a number as input and outputs:\n",
    "\n",
    "- `Good` if the number is less than or equal to 15\n",
    "- `Normal` if the number is greater than 15 and less than or equal to 35\n",
    "- `Bad` if the number is greater than 35 and less than or equal to 75\n",
    "- `Very Bad` if the number is greater than 75"
   ]
  },
  {
   "cell_type": "code",
   "execution_count": null,
   "metadata": {},
   "outputs": [
    {
     "name": "stdout",
     "output_type": "stream",
     "text": [
      "좋음\n"
     ]
    }
   ],
   "source": [
    "num = eval(input('Enter a number: '))\n",
    "if num <= 15:\n",
    "    print('Good')\n",
    "if num > 15 and num <= 35:\n",
    "    print('Normal')\n",
    "if num > 35 and num <= 75:\n",
    "    print('Bad')\n",
    "if num > 75:\n",
    "    print('Very Bad')"
   ]
  },
  {
   "cell_type": "markdown",
   "metadata": {},
   "source": [
    "Using a for loop and range function, write a program that calculates the sum of numbers from 0 to 99."
   ]
  },
  {
   "cell_type": "code",
   "execution_count": null,
   "metadata": {},
   "outputs": [
    {
     "name": "stdout",
     "output_type": "stream",
     "text": [
      "0부터 99까지 숫자의 합은 :  4950\n"
     ]
    }
   ],
   "source": [
    "num = 0\n",
    "\n",
    "for i in range(100):\n",
    "    num = num + i\n",
    "\n",
    "print('The sum of numbers from 0 to 99 is', num)  # The sum should be 4950."
   ]
  },
  {
   "cell_type": "markdown",
   "metadata": {},
   "source": [
    "Write a function that takes two numbers as input and returns the smaller number."
   ]
  },
  {
   "cell_type": "code",
   "execution_count": null,
   "metadata": {},
   "outputs": [
    {
     "name": "stdout",
     "output_type": "stream",
     "text": [
      "0부터 99까지 숫자의 합은 :  4950\n"
     ]
    }
   ],
   "source": [
    "num = 0\n",
    "\n",
    "for i in range(100):\n",
    "    num = num + i\n",
    "\n",
    "print('The sum of numbers from 0 to 99 is', num)  # The sum should be 4950."
   ]
  },
  {
   "cell_type": "markdown",
   "metadata": {},
   "source": [
    "Write a function that takes two numbers as input and returns the smaller number."
   ]
  },
  {
   "cell_type": "code",
   "execution_count": null,
   "metadata": {},
   "outputs": [
    {
     "name": "stdout",
     "output_type": "stream",
     "text": [
      "10\n",
      "50\n"
     ]
    }
   ],
   "source": [
    "def get_min(x, y):\n",
    "    if x < y:\n",
    "        return x\n",
    "    else:\n",
    "        return y\n",
    "\n",
    "print(get_min(10, 30)) # Should output 10.\n",
    "print(get_min(100, 50)) # Should output 50."
   ]
  },
  {
   "cell_type": "markdown",
   "metadata": {},
   "source": [
    "Given two variables x and y, write a program that swaps the values of the two variables."
   ]
  },
  {
   "cell_type": "code",
   "execution_count": null,
   "metadata": {},
   "outputs": [
    {
     "name": "stdout",
     "output_type": "stream",
     "text": [
      "50 100\n"
     ]
    }
   ],
   "source": [
    "x = 100\n",
    "y = 50\n",
    "x, y = y, x # Write code to swap the values of x and y.\n",
    "print(x, y) # Should output 50 100."
   ]
  },
  {
   "cell_type": "markdown",
   "metadata": {},
   "source": [
    "You want to write a Python program that outputs the following string:\n",
    "\n",
    "`The professor said \"Put an elephant in the refrigerator\" while 'smiling'.`\n",
    "\n",
    "The following Python code is incorrect and will cause an error."
   ]
  },
  {
   "cell_type": "code",
   "execution_count": null,
   "metadata": {},
   "outputs": [],
   "source": [
    "print(\"The professor said \"Put an elephant in the refrigerator\" while 'smiling'.\")"
   ]
  },
  {
   "cell_type": "markdown",
   "metadata": {},
   "source": [
    "Explain why the output fails and an error occurs."
   ]
  },
  {
   "cell_type": "markdown",
   "metadata": {},
   "source": [
    "```\n",
    "\n",
    "The interpreter recognizes characters between quotation marks as strings, but it cannot determine how to interpret the part after the first and second quotation marks.\n",
    "\n",
    "\n",
    "```"
   ]
  },
  {
   "cell_type": "markdown",
   "metadata": {},
   "source": [
    "Modify the code so that it outputs without error and show the executed result."
   ]
  },
  {
   "cell_type": "code",
   "execution_count": 12,
   "metadata": {},
   "outputs": [
    {
     "name": "stdout",
     "output_type": "stream",
     "text": [
      "The professor said \"Put an elephant in the refrigerator\" while 'smiling'.\n"
     ]
    }
   ],
   "source": [
    "# The professor said \"Put an elephant in the refrigerator\" while 'smiling'.\n",
    "print(\"The professor said \\\"Put an elephant in the refrigerator\\\" while 'smiling'.\") # Modify this part."
   ]
  }
 ],
 "metadata": {
  "kernelspec": {
   "display_name": ".venv",
   "language": "python",
   "name": "python3"
  },
  "language_info": {
   "codemirror_mode": {
    "name": "ipython",
    "version": 3
   },
   "file_extension": ".py",
   "mimetype": "text/x-python",
   "name": "python",
   "nbconvert_exporter": "python",
   "pygments_lexer": "ipython3",
   "version": "3.13.0"
  }
 },
 "nbformat": 4,
 "nbformat_minor": 4
}

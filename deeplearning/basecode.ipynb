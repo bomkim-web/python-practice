{
 "cells": [
  {
   "cell_type": "code",
   "execution_count": null,
   "id": "3a64aa8b",
   "metadata": {
    "_cell_guid": "9e0eb8a5-c2eb-458f-ad0a-224f1f8b974a",
    "_uuid": "829b790d-c4c3-4cf0-afa4-8017c8093847",
    "collapsed": false,
    "execution": {
     "iopub.execute_input": "2023-10-14T00:40:56.208318Z",
     "iopub.status.busy": "2023-10-14T00:40:56.207728Z",
     "iopub.status.idle": "2023-10-14T00:41:05.960991Z",
     "shell.execute_reply": "2023-10-14T00:41:05.959675Z"
    },
    "jupyter": {
     "outputs_hidden": false
    },
    "papermill": {
     "duration": 9.763972,
     "end_time": "2023-10-14T00:41:05.963961",
     "exception": false,
     "start_time": "2023-10-14T00:40:56.199989",
     "status": "completed"
    },
    "tags": []
   },
   "outputs": [
    {
     "name": "stdout",
     "output_type": "stream",
     "text": [
      "/kaggle/input/knou-mid-term-test/sample_submission.csv\n",
      "/kaggle/input/knou-mid-term-test/train.csv\n",
      "/kaggle/input/knou-mid-term-test/test.csv\n"
     ]
    }
   ],
   "source": [
    "import numpy as np # Linear algebra\n",
    "import pandas as pd # Data processing, CSV file I/O, etc. (e.g. pd.read_csv)\n",
    "import matplotlib.pyplot as plt # Visualization library\n",
    "import matplotlib.image as mpimg # Visualization library\n",
    "%matplotlib inline\n",
    "\n",
    "np.random.seed(42)\n",
    "\n",
    "from sklearn.model_selection import train_test_split\n",
    "from sklearn.metrics import confusion_matrix\n",
    "import itertools\n",
    "# tensorflow keras machine learning library\n",
    "from keras.utils.np_utils import to_categorical\n",
    "from keras.models import Sequential\n",
    "from keras.layers import Input, Dense, Dropout, Flatten, Conv2D, MaxPool2D\n",
    "from keras.optimizers import RMSprop\n",
    "from keras.preprocessing.image import ImageDataGenerator\n",
    "from keras.callbacks import ReduceLROnPlateau\n",
    "\n",
    "\n",
    "# Data is accessible with read-only permissions in the \"../input/\" folder.\n",
    "# For example, running this code with Shift+Enter command click will show all files in the input folder according to the Python function content.\n",
    "\n",
    "import os\n",
    "for dirname, _, filenames in os.walk('/kaggle/input'):\n",
    "    for filename in filenames:\n",
    "        print(os.path.join(dirname, filename))"
   ]
  },
  {
   "cell_type": "code",
   "execution_count": 2,
   "id": "802daab5",
   "metadata": {
    "_cell_guid": "3355f012-e597-475b-a81e-d43f294911c8",
    "_uuid": "b3390a14-3854-456d-b7df-a0cc53bcb56b",
    "collapsed": false,
    "execution": {
     "iopub.execute_input": "2023-10-14T00:41:05.990259Z",
     "iopub.status.busy": "2023-10-14T00:41:05.989673Z",
     "iopub.status.idle": "2023-10-14T00:41:11.114054Z",
     "shell.execute_reply": "2023-10-14T00:41:11.112915Z"
    },
    "jupyter": {
     "outputs_hidden": false
    },
    "papermill": {
     "duration": 5.134779,
     "end_time": "2023-10-14T00:41:11.117038",
     "exception": false,
     "start_time": "2023-10-14T00:41:05.982259",
     "status": "completed"
    },
    "tags": []
   },
   "outputs": [],
   "source": [
    "train = pd.read_csv('../input/knou-mid-term-test/train.csv')\n",
    "test = pd.read_csv('../input/knou-mid-term-test/test.csv')"
   ]
  },
  {
   "cell_type": "code",
   "execution_count": 3,
   "id": "89c5820d",
   "metadata": {
    "_cell_guid": "7146b890-b0b7-4e5b-b912-b45e85acca30",
    "_uuid": "7d4da465-96d9-4ffd-8e4b-f9e70adc08c9",
    "collapsed": false,
    "execution": {
     "iopub.execute_input": "2023-10-14T00:41:11.144148Z",
     "iopub.status.busy": "2023-10-14T00:41:11.143290Z",
     "iopub.status.idle": "2023-10-14T00:41:11.272960Z",
     "shell.execute_reply": "2023-10-14T00:41:11.271860Z"
    },
    "jupyter": {
     "outputs_hidden": false
    },
    "papermill": {
     "duration": 0.138869,
     "end_time": "2023-10-14T00:41:11.274912",
     "exception": false,
     "start_time": "2023-10-14T00:41:11.136043",
     "status": "completed"
    },
    "tags": []
   },
   "outputs": [
    {
     "data": {
      "text/plain": [
       "label\n",
       "1    4684\n",
       "7    4401\n",
       "3    4351\n",
       "9    4188\n",
       "2    4177\n",
       "6    4137\n",
       "0    4132\n",
       "4    4072\n",
       "8    4063\n",
       "5    3795\n",
       "Name: count, dtype: int64"
      ]
     },
     "execution_count": 3,
     "metadata": {},
     "output_type": "execute_result"
    }
   ],
   "source": [
    "Y_train = train[\"label\"]\n",
    "X_train = train.drop([\"label\"], axis=1)\n",
    "\n",
    "Y_train.value_counts()"
   ]
  },
  {
   "cell_type": "code",
   "execution_count": 4,
   "id": "4445755d",
   "metadata": {
    "_cell_guid": "3672a37a-e609-4ac5-8353-2da77c1d0121",
    "_uuid": "68fd1f88-32e1-4f00-951e-caef8f662f16",
    "collapsed": false,
    "execution": {
     "iopub.execute_input": "2023-10-14T00:41:11.301202Z",
     "iopub.status.busy": "2023-10-14T00:41:11.300570Z",
     "iopub.status.idle": "2023-10-14T00:41:11.333278Z",
     "shell.execute_reply": "2023-10-14T00:41:11.332587Z"
    },
    "jupyter": {
     "outputs_hidden": false
    },
    "papermill": {
     "duration": 0.041884,
     "end_time": "2023-10-14T00:41:11.335054",
     "exception": false,
     "start_time": "2023-10-14T00:41:11.293170",
     "status": "completed"
    },
    "tags": []
   },
   "outputs": [
    {
     "data": {
      "text/plain": [
       "0"
      ]
     },
     "execution_count": 4,
     "metadata": {},
     "output_type": "execute_result"
    }
   ],
   "source": [
    "X_train.isnull().sum().sum()"
   ]
  },
  {
   "cell_type": "code",
   "execution_count": 5,
   "id": "75c88ba5",
   "metadata": {
    "_cell_guid": "cf8dd539-45aa-450e-a73d-acccf0abab0a",
    "_uuid": "600c067a-35b4-4691-9007-d237a91ac85b",
    "collapsed": false,
    "execution": {
     "iopub.execute_input": "2023-10-14T00:41:11.361466Z",
     "iopub.status.busy": "2023-10-14T00:41:11.361137Z",
     "iopub.status.idle": "2023-10-14T00:41:11.587149Z",
     "shell.execute_reply": "2023-10-14T00:41:11.586375Z"
    },
    "jupyter": {
     "outputs_hidden": false
    },
    "papermill": {
     "duration": 0.235683,
     "end_time": "2023-10-14T00:41:11.589461",
     "exception": false,
     "start_time": "2023-10-14T00:41:11.353778",
     "status": "completed"
    },
    "tags": []
   },
   "outputs": [],
   "source": [
    "X_train = X_train.astype('float32') / 255.0\n",
    "test = test.astype('float32') / 255.0"
   ]
  },
  {
   "cell_type": "code",
   "execution_count": 6,
   "id": "794b5db8",
   "metadata": {
    "execution": {
     "iopub.execute_input": "2023-10-14T00:41:11.617883Z",
     "iopub.status.busy": "2023-10-14T00:41:11.617449Z",
     "iopub.status.idle": "2023-10-14T00:41:11.622467Z",
     "shell.execute_reply": "2023-10-14T00:41:11.621400Z"
    },
    "papermill": {
     "duration": 0.01474,
     "end_time": "2023-10-14T00:41:11.624341",
     "exception": false,
     "start_time": "2023-10-14T00:41:11.609601",
     "status": "completed"
    },
    "tags": []
   },
   "outputs": [],
   "source": [
    "X_train = X_train.values.reshape((-1,28,28,1))\n",
    "test = test.values.reshape((-1,28,28,1))"
   ]
  },
  {
   "cell_type": "code",
   "execution_count": 7,
   "id": "f4d0a6d7",
   "metadata": {
    "execution": {
     "iopub.execute_input": "2023-10-14T00:41:11.650863Z",
     "iopub.status.busy": "2023-10-14T00:41:11.649774Z",
     "iopub.status.idle": "2023-10-14T00:41:11.656188Z",
     "shell.execute_reply": "2023-10-14T00:41:11.655191Z"
    },
    "papermill": {
     "duration": 0.015649,
     "end_time": "2023-10-14T00:41:11.658271",
     "exception": false,
     "start_time": "2023-10-14T00:41:11.642622",
     "status": "completed"
    },
    "tags": []
   },
   "outputs": [],
   "source": [
    "Y_train = to_categorical(Y_train, num_classes = 10)"
   ]
  },
  {
   "cell_type": "code",
   "execution_count": 8,
   "id": "130e42a0",
   "metadata": {
    "execution": {
     "iopub.execute_input": "2023-10-14T00:41:11.684722Z",
     "iopub.status.busy": "2023-10-14T00:41:11.683595Z",
     "iopub.status.idle": "2023-10-14T00:41:11.688201Z",
     "shell.execute_reply": "2023-10-14T00:41:11.687577Z"
    },
    "papermill": {
     "duration": 0.013622,
     "end_time": "2023-10-14T00:41:11.690094",
     "exception": false,
     "start_time": "2023-10-14T00:41:11.676472",
     "status": "completed"
    },
    "tags": []
   },
   "outputs": [],
   "source": [
    "random_seed = 2"
   ]
  },
  {
   "cell_type": "code",
   "execution_count": 9,
   "id": "e2fed734",
   "metadata": {
    "execution": {
     "iopub.execute_input": "2023-10-14T00:41:11.716288Z",
     "iopub.status.busy": "2023-10-14T00:41:11.715309Z",
     "iopub.status.idle": "2023-10-14T00:41:12.104952Z",
     "shell.execute_reply": "2023-10-14T00:41:12.103824Z"
    },
    "papermill": {
     "duration": 0.399248,
     "end_time": "2023-10-14T00:41:12.107341",
     "exception": false,
     "start_time": "2023-10-14T00:41:11.708093",
     "status": "completed"
    },
    "tags": []
   },
   "outputs": [],
   "source": [
    "X_train, X_val, Y_train, Y_val = train_test_split(X_train, Y_train, test_size=0.1)"
   ]
  },
  {
   "cell_type": "code",
   "execution_count": 10,
   "id": "1e98acb3",
   "metadata": {
    "execution": {
     "iopub.execute_input": "2023-10-14T00:41:12.133773Z",
     "iopub.status.busy": "2023-10-14T00:41:12.133259Z",
     "iopub.status.idle": "2023-10-14T00:41:12.401387Z",
     "shell.execute_reply": "2023-10-14T00:41:12.400174Z"
    },
    "papermill": {
     "duration": 0.27779,
     "end_time": "2023-10-14T00:41:12.403651",
     "exception": false,
     "start_time": "2023-10-14T00:41:12.125861",
     "status": "completed"
    },
    "tags": []
   },
   "outputs": [
    {
     "data": {
      "text/plain": [
       "<matplotlib.image.AxesImage at 0x7ac59c35a7a0>"
      ]
     },
     "execution_count": 10,
     "metadata": {},
     "output_type": "execute_result"
    },
    {
     "data": {
      "image/png": "[encoded data removed]",
      "text/plain": [
       "<Figure size 640x480 with 1 Axes>"
      ]
     },
     "metadata": {},
     "output_type": "display_data"
    }
   ],
   "source": [
    "image = X_train[0]\n",
    "plt.imshow(image) "
   ]
  },
  {
   "cell_type": "code",
   "execution_count": 11,
   "id": "1f685550",
   "metadata": {
    "execution": {
     "iopub.execute_input": "2023-10-14T00:41:12.431298Z",
     "iopub.status.busy": "2023-10-14T00:41:12.430590Z",
     "iopub.status.idle": "2023-10-14T00:41:12.640291Z",
     "shell.execute_reply": "2023-10-14T00:41:12.639521Z"
    },
    "papermill": {
     "duration": 0.228101,
     "end_time": "2023-10-14T00:41:12.651105",
     "exception": false,
     "start_time": "2023-10-14T00:41:12.423004",
     "status": "completed"
    },
    "tags": []
   },
   "outputs": [
    {
     "name": "stdout",
     "output_type": "stream",
     "text": [
      "Model: \"sequential\"\n",
      "_________________________________________________________________\n",
      " Layer (type)                Output Shape              Param #   \n",
      "=================================================================\n",
      " conv2d (Conv2D)             (None, 26, 26, 32)        320       \n",
      "                                                                 \n",
      " max_pooling2d (MaxPooling2D  (None, 13, 13, 32)       0         \n",
      " )                                                               \n",
      "                                                                 \n",
      " conv2d_1 (Conv2D)           (None, 11, 11, 64)        18496     \n",
      "                                                                 \n",
      " max_pooling2d_1 (MaxPooling  (None, 5, 5, 64)         0         \n",
      " 2D)                                                             \n",
      "                                                                 \n",
      " flatten (Flatten)           (None, 1600)              0         \n",
      "                                                                 \n",
      " dropout (Dropout)           (None, 1600)              0         \n",
      "                                                                 \n",
      " dense (Dense)               (None, 10)                16010     \n",
      "                                                                 \n",
      "=================================================================\n",
      "Total params: 34,826\n",
      "Trainable params: 34,826\n",
      "Non-trainable params: 0\n",
      "_________________________________________________________________\n"
     ]
    }
   ],
   "source": [
    "input_shape = (28,28,1)\n",
    "num_classes = 10\n",
    "\n",
    "model = Sequential(\n",
    "    [\n",
    "        Input(shape=input_shape),\n",
    "        Conv2D(32, kernel_size=(3, 3), activation=\"relu\"),\n",
    "        MaxPool2D(pool_size=(2, 2)),\n",
    "        Conv2D(64, kernel_size=(3, 3), activation=\"relu\"),\n",
    "        MaxPool2D(pool_size=(2, 2)),\n",
    "        Flatten(),\n",
    "        Dropout(0.5),\n",
    "        Dense(num_classes, activation=\"softmax\"),\n",
    "    ]\n",
    ")\n",
    "\n",
    "model.summary()"
   ]
  },
  {
   "cell_type": "code",
   "execution_count": 12,
   "id": "adb9d5d4",
   "metadata": {
    "execution": {
     "iopub.execute_input": "2023-10-14T00:41:12.685665Z",
     "iopub.status.busy": "2023-10-14T00:41:12.685294Z",
     "iopub.status.idle": "2023-10-14T00:41:12.885340Z",
     "shell.execute_reply": "2023-10-14T00:41:12.884317Z"
    },
    "papermill": {
     "duration": 0.212277,
     "end_time": "2023-10-14T00:41:12.887705",
     "exception": false,
     "start_time": "2023-10-14T00:41:12.675428",
     "status": "completed"
    },
    "tags": []
   },
   "outputs": [],
   "source": [
    "model.compile(loss=\"categorical_crossentropy\", optimizer=\"adam\", metrics=[\"accuracy\"])"
   ]
  },
  {
   "cell_type": "code",
   "execution_count": 13,
   "id": "ca326c8c",
   "metadata": {
    "execution": {
     "iopub.execute_input": "2023-10-14T00:41:12.921137Z",
     "iopub.status.busy": "2023-10-14T00:41:12.920793Z",
     "iopub.status.idle": "2023-10-14T00:44:49.803722Z",
     "shell.execute_reply": "2023-10-14T00:44:49.802565Z"
    },
    "papermill": {
     "duration": 216.893828,
     "end_time": "2023-10-14T00:44:49.805446",
     "exception": false,
     "start_time": "2023-10-14T00:41:12.911618",
     "status": "completed"
    },
    "tags": []
   },
   "outputs": [
    {
     "name": "stdout",
     "output_type": "stream",
     "text": [
      "Epoch 1/15\n",
      "266/266 [==============================] - 16s 57ms/step - loss: 0.4815 - accuracy: 0.8548 - val_loss: 0.1293 - val_accuracy: 0.9640\n",
      "Epoch 2/15\n",
      "266/266 [==============================] - 15s 56ms/step - loss: 0.1381 - accuracy: 0.9584 - val_loss: 0.0851 - val_accuracy: 0.9778\n",
      "Epoch 3/15\n",
      "266/266 [==============================] - 15s 57ms/step - loss: 0.0970 - accuracy: 0.9707 - val_loss: 0.0753 - val_accuracy: 0.9791\n",
      "Epoch 4/15\n",
      "266/266 [==============================] - 14s 54ms/step - loss: 0.0820 - accuracy: 0.9743 - val_loss: 0.0612 - val_accuracy: 0.9823\n",
      "Epoch 5/15\n",
      "266/266 [==============================] - 15s 55ms/step - loss: 0.0711 - accuracy: 0.9781 - val_loss: 0.0524 - val_accuracy: 0.9839\n",
      "Epoch 6/15\n",
      "266/266 [==============================] - 14s 54ms/step - loss: 0.0618 - accuracy: 0.9806 - val_loss: 0.0487 - val_accuracy: 0.9870\n",
      "Epoch 7/15\n",
      "266/266 [==============================] - 15s 55ms/step - loss: 0.0545 - accuracy: 0.9837 - val_loss: 0.0477 - val_accuracy: 0.9854\n",
      "Epoch 8/15\n",
      "266/266 [==============================] - 14s 53ms/step - loss: 0.0517 - accuracy: 0.9833 - val_loss: 0.0415 - val_accuracy: 0.9878\n",
      "Epoch 9/15\n",
      "266/266 [==============================] - 14s 54ms/step - loss: 0.0495 - accuracy: 0.9842 - val_loss: 0.0399 - val_accuracy: 0.9889\n",
      "Epoch 10/15\n",
      "266/266 [==============================] - 14s 52ms/step - loss: 0.0450 - accuracy: 0.9857 - val_loss: 0.0396 - val_accuracy: 0.9884\n",
      "Epoch 11/15\n",
      "266/266 [==============================] - 14s 52ms/step - loss: 0.0439 - accuracy: 0.9859 - val_loss: 0.0361 - val_accuracy: 0.9892\n",
      "Epoch 12/15\n",
      "266/266 [==============================] - 14s 54ms/step - loss: 0.0397 - accuracy: 0.9878 - val_loss: 0.0394 - val_accuracy: 0.9894\n",
      "Epoch 13/15\n",
      "266/266 [==============================] - 14s 52ms/step - loss: 0.0381 - accuracy: 0.9879 - val_loss: 0.0402 - val_accuracy: 0.9889\n",
      "Epoch 14/15\n",
      "266/266 [==============================] - 14s 54ms/step - loss: 0.0368 - accuracy: 0.9885 - val_loss: 0.0335 - val_accuracy: 0.9889\n",
      "Epoch 15/15\n",
      "266/266 [==============================] - 14s 52ms/step - loss: 0.0359 - accuracy: 0.9885 - val_loss: 0.0357 - val_accuracy: 0.9894\n"
     ]
    },
    {
     "data": {
      "text/plain": [
       "<keras.callbacks.History at 0x7ac52df53d30>"
      ]
     },
     "execution_count": 13,
     "metadata": {},
     "output_type": "execute_result"
    }
   ],
   "source": [
    "batch_size = 128\n",
    "epochs = 15\n",
    "\n",
    "model.fit(X_train, Y_train, batch_size=batch_size, epochs=epochs, validation_split=0.1)"
   ]
  },
  {
   "cell_type": "code",
   "execution_count": 14,
   "id": "fda8e807",
   "metadata": {
    "execution": {
     "iopub.execute_input": "2023-10-14T00:44:50.470092Z",
     "iopub.status.busy": "2023-10-14T00:44:50.469721Z",
     "iopub.status.idle": "2023-10-14T00:44:55.434857Z",
     "shell.execute_reply": "2023-10-14T00:44:55.433992Z"
    },
    "papermill": {
     "duration": 5.135305,
     "end_time": "2023-10-14T00:44:55.437118",
     "exception": false,
     "start_time": "2023-10-14T00:44:50.301813",
     "status": "completed"
    },
    "tags": []
   },
   "outputs": [
    {
     "name": "stdout",
     "output_type": "stream",
     "text": [
      "875/875 [==============================] - 4s 5ms/step\n"
     ]
    }
   ],
   "source": [
    "results = model.predict(test)"
   ]
  },
  {
   "cell_type": "code",
   "execution_count": 15,
   "id": "be0e19b9",
   "metadata": {
    "execution": {
     "iopub.execute_input": "2023-10-14T00:44:56.177572Z",
     "iopub.status.busy": "2023-10-14T00:44:56.176849Z",
     "iopub.status.idle": "2023-10-14T00:44:56.182323Z",
     "shell.execute_reply": "2023-10-14T00:44:56.181667Z"
    },
    "papermill": {
     "duration": 0.179077,
     "end_time": "2023-10-14T00:44:56.183962",
     "exception": false,
     "start_time": "2023-10-14T00:44:56.004885",
     "status": "completed"
    },
    "tags": []
   },
   "outputs": [],
   "source": [
    "results = np.argmax(results,axis = 1)\n",
    "results = pd.Series(results,name=\"Label\")"
   ]
  },
  {
   "cell_type": "code",
   "execution_count": 16,
   "id": "32d88fb6",
   "metadata": {
    "execution": {
     "iopub.execute_input": "2023-10-14T00:44:56.867671Z",
     "iopub.status.busy": "2023-10-14T00:44:56.867258Z",
     "iopub.status.idle": "2023-10-14T00:44:56.873779Z",
     "shell.execute_reply": "2023-10-14T00:44:56.872864Z"
    },
    "papermill": {
     "duration": 0.179158,
     "end_time": "2023-10-14T00:44:56.875558",
     "exception": false,
     "start_time": "2023-10-14T00:44:56.696400",
     "status": "completed"
    },
    "tags": []
   },
   "outputs": [],
   "source": [
    "submission = pd.concat([pd.Series(range(1,28001),name = \"ImageId\"),results],axis = 1)"
   ]
  },
  {
   "cell_type": "code",
   "execution_count": 17,
   "id": "8401415c",
   "metadata": {
    "execution": {
     "iopub.execute_input": "2023-10-14T00:44:57.628639Z",
     "iopub.status.busy": "2023-10-14T00:44:57.627702Z",
     "iopub.status.idle": "2023-10-14T00:44:57.666890Z",
     "shell.execute_reply": "2023-10-14T00:44:57.665799Z"
    },
    "papermill": {
     "duration": 0.22484,
     "end_time": "2023-10-14T00:44:57.669726",
     "exception": false,
     "start_time": "2023-10-14T00:44:57.444886",
     "status": "completed"
    },
    "tags": []
   },
   "outputs": [],
   "source": [
    "submission.to_csv('submission.csv', index=False)"
   ]
  }
 ],
 "metadata": {
  "kernelspec": {
   "display_name": "Python 3",
   "language": "python",
   "name": "python3"
  },
  "language_info": {
   "codemirror_mode": {
    "name": "ipython",
    "version": 3
   },
   "file_extension": ".py",
   "mimetype": "text/x-python",
   "name": "python",
   "nbconvert_exporter": "python",
   "pygments_lexer": "ipython3",
   "version": "3.10.12"
  },
  "papermill": {
   "default_parameters": {},
   "duration": 246.401896,
   "end_time": "2023-10-14T00:44:59.485185",
   "environment_variables": {},
   "exception": null,
   "input_path": "__notebook__.ipynb",
   "output_path": "__notebook__.ipynb",
   "parameters": {},
   "start_time": "2023-10-14T00:40:53.083289",
   "version": "2.4.0"
  }
 },
 "nbformat": 4,
 "nbformat_minor": 5
}
